{
 "cells": [
  {
   "cell_type": "code",
   "execution_count": 1,
   "metadata": {},
   "outputs": [],
   "source": [
    "import os\n",
    "\n",
    "import pandas as pd\n",
    "from dotenv import load_dotenv\n",
    "from langchain.agents import AgentExecutor\n",
    "from langchain.llms import LlamaCpp\n",
    "from langchain.prompts import PromptTemplate\n",
    "from langchain_experimental.tools.python.tool import PythonAstREPLTool\n",
    "from langchain_openai import OpenAI\n",
    "\n",
    "from custom_react_agent import create_react_agent\n",
    "from prompt_template import llama_pandas_template\n",
    "\n",
    "load_dotenv()\n",
    "\n",
    "openai_api_key = os.getenv(\"OPENAI_API_KEY\")"
   ]
  },
  {
   "cell_type": "code",
   "execution_count": 2,
   "metadata": {},
   "outputs": [],
   "source": [
    "llm = OpenAI(model=\"gpt-3.5-turbo-instruct\", temperature=0)"
   ]
  },
  {
   "cell_type": "code",
   "execution_count": 2,
   "metadata": {},
   "outputs": [
    {
     "name": "stderr",
     "output_type": "stream",
     "text": [
      "AVX = 1 | AVX2 = 1 | AVX512 = 0 | AVX512_VBMI = 0 | AVX512_VNNI = 0 | FMA = 1 | NEON = 0 | ARM_FMA = 0 | F16C = 1 | FP16_VA = 0 | WASM_SIMD = 0 | BLAS = 1 | SSE3 = 1 | SSSE3 = 0 | VSX = 0 | \n"
     ]
    }
   ],
   "source": [
    "# model_path = \"models/llama-2-7b-chat.Q5_K_M.gguf\"\n",
    "# model_path = \"models/llama-2-13b-chat.Q4_K_M.gguf\"\n",
    "model_path = \"models/mistral-7b-instruct-v0.2.Q5_K_M.gguf\"\n",
    "\n",
    "n_gpu_layers = 25       # Change this value based on your model and your GPU VRAM pool.\n",
    "n_batch = 32            # Should be between 1 and n_ctx, consider the amount of VRAM in your GPU.\n",
    "context_window = 4096\n",
    "\n",
    "llm = LlamaCpp(\n",
    "    model_path=model_path,\n",
    "    n_ctx=context_window,\n",
    "    n_gpu_layers=n_gpu_layers,\n",
    "    n_batch=n_batch,\n",
    ")"
   ]
  },
  {
   "cell_type": "code",
   "execution_count": 24,
   "metadata": {},
   "outputs": [],
   "source": [
    "df = pd.read_csv('datasets/anonymized/iris.csv')\n",
    "\n",
    "# in the shell all packages from this env are available\n",
    "shell = PythonAstREPLTool(locals={\"df\": df})\n",
    "\n",
    "shell.run(\n",
    "    \"import numpy as np; import matplotlib.pyplot as plt; import pandas as pd; import seaborn as sns\"\n",
    ")\n",
    "\n",
    "tools = [shell]\n",
    "\n",
    "prompt = PromptTemplate(\n",
    "    input_variables=[\"agent_scratchpad\", \"input\", \"tools\", \"dfhead\"],\n",
    "    template=llama_pandas_template,\n",
    ")\n",
    "\n",
    "agent = create_react_agent(llm, tools, prompt)\n",
    "\n",
    "agent_executor = AgentExecutor(\n",
    "    agent=agent,\n",
    "    tools=tools,\n",
    "    verbose=True,\n",
    "    handle_parsing_errors=True,\n",
    ")"
   ]
  },
  {
   "cell_type": "code",
   "execution_count": 25,
   "metadata": {},
   "outputs": [
    {
     "name": "stdout",
     "output_type": "stream",
     "text": [
      "\n",
      "\n",
      "\u001b[1m> Entering new AgentExecutor chain...\u001b[0m\n"
     ]
    },
    {
     "name": "stderr",
     "output_type": "stream",
     "text": [
      "Llama.generate: prefix-match hit\n"
     ]
    },
    {
     "name": "stdout",
     "output_type": "stream",
     "text": [
      "\u001b[32;1m\u001b[1;3m I want to extract the top 5 highest values from the first column.\n",
      "Action: python_repl_ast\n",
      "Action Input: top5 = df['att_1'].nlargest(5)\n",
      "\u001b[0m\u001b[36;1m\u001b[1;3m\u001b[0m"
     ]
    },
    {
     "name": "stderr",
     "output_type": "stream",
     "text": [
      "Llama.generate: prefix-match hit\n"
     ]
    },
    {
     "name": "stdout",
     "output_type": "stream",
     "text": [
      "\u001b[32;1m\u001b[1;3m I now know the final answer.\n",
      "Final Answer: The top 5 highest values from the first column are: {top5}\u001b[0m\n",
      "\n",
      "\u001b[1m> Finished chain.\u001b[0m\n"
     ]
    }
   ],
   "source": [
    "answer = agent_executor.invoke(\n",
    "    {\"input\": \"Extract the top 5 highest values from the first column.\"}\n",
    ")"
   ]
  },
  {
   "cell_type": "code",
   "execution_count": 26,
   "metadata": {},
   "outputs": [
    {
     "data": {
      "text/plain": [
       "'2     7.11\\n9     6.93\\n12    6.93\\n49    6.93\\n67    6.93\\nName: att_1, dtype: float64\\n'"
      ]
     },
     "execution_count": 26,
     "metadata": {},
     "output_type": "execute_result"
    }
   ],
   "source": [
    "tools[0].run('print(top5)')"
   ]
  }
 ],
 "metadata": {
  "kernelspec": {
   "display_name": "venv",
   "language": "python",
   "name": "python3"
  },
  "language_info": {
   "codemirror_mode": {
    "name": "ipython",
    "version": 3
   },
   "file_extension": ".py",
   "mimetype": "text/x-python",
   "name": "python",
   "nbconvert_exporter": "python",
   "pygments_lexer": "ipython3",
   "version": "3.10.0"
  }
 },
 "nbformat": 4,
 "nbformat_minor": 2
}
