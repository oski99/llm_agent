{
 "cells": [
  {
   "cell_type": "code",
   "execution_count": 1,
   "metadata": {},
   "outputs": [],
   "source": [
    "import os\n",
    "\n",
    "import pandas as pd\n",
    "from dotenv import load_dotenv\n",
    "from langchain.agents import AgentExecutor\n",
    "from langchain.llms import LlamaCpp\n",
    "from langchain.prompts import PromptTemplate\n",
    "from langchain_experimental.tools.python.tool import PythonAstREPLTool\n",
    "from langchain_openai import OpenAI\n",
    "\n",
    "from custom_react_agent import create_react_agent\n",
    "from prompt_template import llama_pandas_template\n",
    "\n",
    "load_dotenv()\n",
    "\n",
    "openai_api_key = os.getenv(\"OPENAI_API_KEY\")"
   ]
  },
  {
   "cell_type": "code",
   "execution_count": 6,
   "metadata": {},
   "outputs": [],
   "source": [
    "llm = OpenAI(model=\"gpt-3.5-turbo-instruct\", temperature=0)"
   ]
  },
  {
   "cell_type": "code",
   "execution_count": 3,
   "metadata": {},
   "outputs": [
    {
     "name": "stderr",
     "output_type": "stream",
     "text": [
      "AVX = 1 | AVX2 = 1 | AVX512 = 0 | AVX512_VBMI = 0 | AVX512_VNNI = 0 | FMA = 1 | NEON = 0 | ARM_FMA = 0 | F16C = 1 | FP16_VA = 0 | WASM_SIMD = 0 | BLAS = 1 | SSE3 = 1 | SSSE3 = 0 | VSX = 0 | \n"
     ]
    }
   ],
   "source": [
    "# model_path = \"models/llama-2-7b-chat.Q5_K_M.gguf\"\n",
    "# model_path = \"models/llama-2-13b-chat.Q4_K_M.gguf\"\n",
    "model_path = \"models/mistral-7b-instruct-v0.2.Q5_K_M.gguf\"\n",
    "\n",
    "n_gpu_layers = 25       # Change this value based on your model and your GPU VRAM pool.\n",
    "n_batch = 32            # Should be between 1 and n_ctx, consider the amount of VRAM in your GPU.\n",
    "context_window = 4096\n",
    "\n",
    "llm = LlamaCpp(\n",
    "    model_path=model_path,\n",
    "    n_ctx=context_window,\n",
    "    n_gpu_layers=n_gpu_layers,\n",
    "    n_batch=n_batch,\n",
    ")"
   ]
  },
  {
   "cell_type": "code",
   "execution_count": 7,
   "metadata": {},
   "outputs": [],
   "source": [
    "df = pd.read_csv('datasets/anonymized/student.csv')\n",
    "\n",
    "# in the shell all packages from this env are available\n",
    "shell = PythonAstREPLTool(locals={\"df\": df})\n",
    "\n",
    "shell.run(\n",
    "    \"import numpy as np; import matplotlib.pyplot as plt; import pandas as pd; import seaborn as sns\"\n",
    ")\n",
    "\n",
    "tools = [shell]\n",
    "\n",
    "prompt = PromptTemplate(\n",
    "    input_variables=[\"agent_scratchpad\", \"input\", \"tools\", \"dfhead\"],\n",
    "    template=llama_pandas_template,\n",
    ")\n",
    "\n",
    "agent = create_react_agent(llm, tools, prompt)\n",
    "\n",
    "agent_executor = AgentExecutor(\n",
    "    agent=agent,\n",
    "    tools=tools,\n",
    "    verbose=True,\n",
    "    handle_parsing_errors=True,\n",
    ")"
   ]
  },
  {
   "cell_type": "code",
   "execution_count": 8,
   "metadata": {},
   "outputs": [
    {
     "name": "stdout",
     "output_type": "stream",
     "text": [
      "\n",
      "\n",
      "\u001b[1m> Entering new AgentExecutor chain...\u001b[0m\n",
      "\u001b[32;1m\u001b[1;3m I can use the isnull() and sum() functions to check for missing data in each column and then calculate the percentage of missing data.\n",
      "Action: python_repl_ast\n",
      "Action Input: df.isnull().sum() / len(df) * 100\n",
      "\u001b[0m\u001b[36;1m\u001b[1;3matt_1     5.617978\n",
      "att_2     2.247191\n",
      "att_3     1.966292\n",
      "att_4     8.707865\n",
      "att_5     2.528090\n",
      "att_6     8.988764\n",
      "att_7     2.247191\n",
      "att_8     2.528090\n",
      "att_9     2.247191\n",
      "att_10    3.651685\n",
      "att_11    7.584270\n",
      "att_12    3.932584\n",
      "att_13    6.179775\n",
      "att_14    5.056180\n",
      "att_15    9.269663\n",
      "att_16    2.247191\n",
      "att_17    5.617978\n",
      "att_18    6.741573\n",
      "att_19    1.404494\n",
      "att_20    5.337079\n",
      "att_21    9.831461\n",
      "att_22    6.460674\n",
      "att_23    1.685393\n",
      "att_24    2.528090\n",
      "att_25    5.337079\n",
      "att_26    5.056180\n",
      "att_27    2.247191\n",
      "att_28    1.123596\n",
      "att_29    1.404494\n",
      "att_30    7.865169\n",
      "att_31    2.808989\n",
      "att_32    3.651685\n",
      "att_33    7.022472\n",
      "dtype: float64\u001b[0m\u001b[32;1m\u001b[1;3m I now know the final answer\n",
      "Final Answer: The columns with missing data are att_1, att_2, att_3, att_4, att_5, att_6, att_7, att_8, att_9, att_10, att_11, att_12, att_13, att_14, att_15, att_16, att_17, att_18, att_19, att_20, att_21, att_22, att_23, att_24, att_25, att_26, att_27, att_28, att_29, att_30, att_31, att_32, att_33. The percentage of missing data in each column ranges from 1.12% to 9.83%.\u001b[0m\n",
      "\n",
      "\u001b[1m> Finished chain.\u001b[0m\n"
     ]
    }
   ],
   "source": [
    "answer = agent_executor.invoke(\n",
    "    {\"input\": \"Which columns have missing data and what is the percentage of missing data in those columns?\"}\n",
    ")"
   ]
  }
 ],
 "metadata": {
  "kernelspec": {
   "display_name": "venv",
   "language": "python",
   "name": "python3"
  },
  "language_info": {
   "codemirror_mode": {
    "name": "ipython",
    "version": 3
   },
   "file_extension": ".py",
   "mimetype": "text/x-python",
   "name": "python",
   "nbconvert_exporter": "python",
   "pygments_lexer": "ipython3",
   "version": "3.10.0"
  }
 },
 "nbformat": 4,
 "nbformat_minor": 2
}
